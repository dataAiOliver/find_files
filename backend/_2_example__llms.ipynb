{
 "cells": [
  {
   "cell_type": "code",
   "execution_count": 1,
   "metadata": {},
   "outputs": [
    {
     "name": "stderr",
     "output_type": "stream",
     "text": [
      "2025-01-31 18:50:07,403 - my_logger - INFO - host: localhost\n"
     ]
    },
    {
     "name": "stdout",
     "output_type": "stream",
     "text": [
      "host: localhost\n"
     ]
    }
   ],
   "source": [
    "from dotenv import load_dotenv\n",
    "_ = load_dotenv(\"config.env\")\n",
    "\n",
    "from common.mongodb import *\n",
    "from common.files import *\n",
    "from common.llms import *\n",
    "\n",
    "doc = file2md(\"/Users/oliverkohn/repositories/datasphereAI/find_files/backend/data/receipt2.docx\")"
   ]
  },
  {
   "cell_type": "code",
   "execution_count": 5,
   "metadata": {},
   "outputs": [
    {
     "name": "stderr",
     "output_type": "stream",
     "text": [
      "2025-01-31 18:50:54,616 - my_logger - INFO - Prompt Original:\n",
      "\n",
      "Your task is to eassign below document to a category.\n",
      "Possible categories are:\n",
      "\n",
      "Receipt, Rental Contract, Sales Agreement, Non-Disclosure Agreement (NDA), Employment Contract, Business Proposal, Service Agreement, Power of Attorney\n",
      "\n",
      "Answer in a JSON object of this format:\n",
      "\n",
      "{\n",
      "    \"category\" : \"xxx\"\n",
      "}\n",
      "\n",
      "Answer in a json in exactly this format. It is important that your answer only consists of this JSON and nothing else. No additional text.\n",
      "\n",
      "This is the document you shall extract the information from:\n",
      "\n",
      "\n",
      "# Official Receipt\n",
      "\n",
      "Company Name: Tech Solutions UG\n",
      "\n",
      "Address: Hauptstraße 123, 10115 Berlin, Germany\n",
      "\n",
      "Phone: +49 30 12345678 | Email: contact@techsolutions.de\n",
      "\n",
      "Website: www.techsolutions.de\n",
      "\n",
      "Receipt Number: #20250131-002\n",
      "\n",
      "Date of Issue: 31.01.2025\n",
      "\n",
      "Customer Name: Max Mustermann\n",
      "\n",
      "Customer Address: Musterstraße 45, 10117 Berlin, Germany\n",
      "\n",
      "Customer Email: max.mustermann@email.com\n",
      "\n",
      "Customer Phone: +49 170 9876543\n",
      "\n",
      "| Item Description | Quantity | Unit Price (€) | Tax (19%) (€) | Total (€) |\n",
      "| --- | --- | --- | --- | --- |\n",
      "| Laptop Repair Service - Diagnostic & Fix | 1 | 120.00 | 22.80 | 142.80 |\n",
      "| Software Installation - Windows & Drivers | 1 | 50.00 | 9.50 | 59.50 |\n",
      "| Hardware Upgrade (RAM - 16GB) | 2 | 75.00 | 28.50 | 178.50 |\n",
      "| Antivirus Software - 1 Year License | 1 | 40.00 | 7.60 | 47.60 |\n",
      "| Data Recovery Service | 1 | 85.00 | 16.15 | 101.15 |\n",
      "\n",
      "Subtotal: €370.00\n",
      "\n",
      "Tax (19% VAT): €70.55\n",
      "\n",
      "Total Amount: €440.55\n",
      "\n",
      "Payment Method: Credit Card\n",
      "\n",
      "Payment Status: Paid in Full\n",
      "\n",
      "Transaction ID: TXN20250131-9823\n",
      "\n",
      "Warranty Information:\n",
      "\n",
      "• The hardware upgrade includes a 1-year warranty on the installed components.\n",
      "• The software installation service is guaranteed for 30 days against installation issues.\n",
      "• Data recovery success depends on the condition of the storage device and does not guarantee full data retrieval.\n",
      "\n",
      "Terms & Conditions:\n",
      "\n",
      "• This receipt serves as proof of purchase and must be presented for any warranty claims.\n",
      "• Services provided are non-refundable once completed unless stated otherwise.\n",
      "• The customer is responsible for backing up personal data before any service is carried out.\n",
      "\n",
      "Thank you for choosing Tech Solutions UG! We appreciate your business and look forward to serving you again.\n",
      "\n",
      "\n",
      "\n",
      "2025-01-31 18:50:55,557 - my_logger - INFO - RESPONSE_ORIG:\n",
      "\n",
      "'{\n",
      "    \"category\" : \"Receipt\"\n",
      "}'\n",
      "2025-01-31 18:50:55,558 - my_logger - INFO - HAS NO CONTENT\n"
     ]
    },
    {
     "data": {
      "text/plain": [
       "'{\\n    \"category\" : \"Receipt\"\\n}'"
      ]
     },
     "execution_count": 5,
     "metadata": {},
     "output_type": "execute_result"
    }
   ],
   "source": [
    "document_types = [\"Receipt\", \"Rental Contract\", \"Sales Agreement\", \"Non-Disclosure Agreement (NDA)\", \"Employment Contract\", \"Business Proposal\", \"Service Agreement\", \"Power of Attorney\"]\n",
    "document_types = \", \".join(document_types)\n",
    "\n",
    "prompt_category= f\"\"\"Your task is to eassign below document to a category.\n",
    "Possible categories are:\n",
    "\n",
    "{document_types}\n",
    "\n",
    "Answer in a JSON object of this format:\n",
    "\n",
    "{{\n",
    "    \"category\" : \"xxx\"\n",
    "}}\n",
    "\n",
    "Answer in a json in exactly this format. It is important that your answer only consists of this JSON and nothing else. No additional text.\n",
    "\n",
    "This is the document you shall extract the information from:\n",
    "\n",
    "{doc}\n",
    "\"\"\"\n",
    "\n",
    "llm = OllamaLLM(model=\"llama3.2:3b\", temperature=0, cache=False)\n",
    "category = execute_text_prompt(llm, prompt_category)\n",
    "category"
   ]
  },
  {
   "cell_type": "code",
   "execution_count": null,
   "metadata": {},
   "outputs": [],
   "source": [
    "prompt_general = f\"\"\"Your task is to extract this information from below document:\n",
    "\n",
    "{{\n",
    "    \"receipt_id\" : \"xxx\",\n",
    "    \"date\" : \"xxx\",\n",
    "    \"items\" : {{\"price\" : \"xxx\", \"name\" : \"xxx\"}}\n",
    "    \"total_price\" : {{\"amount\": \"xxx\"}}\n",
    "    \"receipt_category\" : \"xxx\"\n",
    "}}\n",
    "\n",
    "Answer in a json in exactly this format. It is important that your answer only consists of this JSON and nothing else. No additional text.\n",
    "\n",
    "This is the document you shall extract the information from:\n",
    "\n",
    "{doc}\n",
    "\"\"\"\n",
    "\n",
    "models = [\"llama3.2:3b\", \"deepseek-r1:8b\", \"deepseek-r1:14b\"]\n",
    "\n",
    "r_llm = {}\n",
    "for model in models:\n",
    "    logger.info(f\"RUN MODEL '{model}'\")\n",
    "    llm = OllamaLLM(model=model, temperature=0, cache=False)\n",
    "    r_llm[model] = execute_text_prompt(llm, prompt_general)"
   ]
  },
  {
   "cell_type": "code",
   "execution_count": null,
   "metadata": {},
   "outputs": [],
   "source": [
    "j_llm = {}\n",
    "for k, v in r_llm.items():\n",
    "    j_llm[k] = response2json(v)\n",
    "\n",
    "j_llm"
   ]
  },
  {
   "cell_type": "code",
   "execution_count": null,
   "metadata": {},
   "outputs": [],
   "source": [
    "prompt_items = f\"\"\"Below you find a receipt. Your task is to identify the items from this receipt and extract their names as well as their price.\n",
    "Answer in a json object like this:\n",
    "\n",
    "{{\n",
    "    \"response\" : [{{\"item_name\" : \"xxx\", \"item_price\" : \"xxx\"}}]\n",
    "}}\n",
    "\n",
    "It is important that you answer exactly in this format, a JSON object where the main key is \"response\". Do not put anything els ein your response.\n",
    "\n",
    "This is the document you shall extract the information from:\n",
    "\n",
    "{doc}\n",
    "\"\"\"\n",
    "\n",
    "models = [\"llama3.2:3b\", \"deepseek-r1:8b\", \"deepseek-r1:14b\"]\n",
    "\n",
    "r_llm_specific = {}\n",
    "for model in models:\n",
    "    logger.info(f\"RUN MODEL '{model}'\")\n",
    "    llm = OllamaLLM(model=model, temperature=0, cache=False)\n",
    "    r_llm_specific[model] = execute_text_prompt(llm, prompt_items)\n"
   ]
  },
  {
   "cell_type": "code",
   "execution_count": null,
   "metadata": {},
   "outputs": [],
   "source": [
    "j_llm = {}\n",
    "for k, v in r_llm_specific.items():\n",
    "    j_llm[k] = response2json(v)\n",
    "    print(v)\n",
    "\n",
    "j_llm"
   ]
  }
 ],
 "metadata": {
  "kernelspec": {
   "display_name": ".venv",
   "language": "python",
   "name": "python3"
  },
  "language_info": {
   "codemirror_mode": {
    "name": "ipython",
    "version": 3
   },
   "file_extension": ".py",
   "mimetype": "text/x-python",
   "name": "python",
   "nbconvert_exporter": "python",
   "pygments_lexer": "ipython3",
   "version": "3.11.10"
  }
 },
 "nbformat": 4,
 "nbformat_minor": 2
}

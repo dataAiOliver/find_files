{
 "cells": [
  {
   "cell_type": "code",
   "execution_count": 1,
   "metadata": {},
   "outputs": [
    {
     "name": "stderr",
     "output_type": "stream",
     "text": [
      "2025-01-31 22:19:02,874 - my_logger - INFO - host: localhost\n"
     ]
    },
    {
     "name": "stdout",
     "output_type": "stream",
     "text": [
      "host: localhost\n",
      "Inserted 100 documents into MongoDB.\n"
     ]
    },
    {
     "data": {
      "text/plain": [
       "{'_id': '41d08e55-da86-4e29-8f0d-163de1ca7664',\n",
       " 'filepath': 'fp0_2/fp1_3/fp2_1/File_3005.docx',\n",
       " 'filepath_custom': 'fp_c0_2/fp_c1_1/fp_c2_4/File_3005.docx',\n",
       " 'category': 'Rechnung',\n",
       " 'src': {'type': 'local', 'fp': None},\n",
       " 'metadata': {'infos': {'receiptid': 'rechnung 271756b4-9b1d-4752-82de-c66cc9026017',\n",
       "   'receiptdate': datetime.datetime(2024, 10, 20, 11, 53, 43, 789000)},\n",
       "  'category': {'maincategory': 'happy', 'subcategory': 'after'},\n",
       "  'buyer': {'firstname': 'Donna',\n",
       "   'lastname': 'Casey',\n",
       "   'company': 'Harper, Olsen and Lopez'},\n",
       "  'seller': {'firstname': 'Paul',\n",
       "   'lastname': 'Hutchinson',\n",
       "   'company': 'Lewis-Kelly'},\n",
       "  'price': {'price': 612.32}},\n",
       " 'summary': 'Small summary of the file ... .'}"
      ]
     },
     "execution_count": 1,
     "metadata": {},
     "output_type": "execute_result"
    }
   ],
   "source": [
    "from dotenv import load_dotenv\n",
    "_ = load_dotenv(\"config.env\")\n",
    "\n",
    "from common.mongodb import *\n",
    "from common.files import *\n",
    "\n",
    "\n",
    "drop_collection=True\n",
    "collection = get_mongo_collection(os.getenv(\"MONGODB_COLLECTION_NAME\"), drop_collection=drop_collection)\n",
    "\n",
    "# new mock data\n",
    "if drop_collection:\n",
    "    insert_into_mongo(collection, 100)\n",
    "\n",
    "collection.find_one()"
   ]
  },
  {
   "cell_type": "code",
   "execution_count": 2,
   "metadata": {},
   "outputs": [],
   "source": [
    "#list(collection.find({}))"
   ]
  },
  {
   "cell_type": "code",
   "execution_count": 3,
   "metadata": {},
   "outputs": [
    {
     "data": {
      "text/plain": [
       "{'filepath': 'str',\n",
       " 'category': 'str',\n",
       " 'src.type': 'str',\n",
       " 'src.fp': 'NoneType',\n",
       " 'metadata.infos.receiptid': 'str',\n",
       " 'metadata.infos.receiptdate': 'datetime',\n",
       " 'metadata.category.maincategory': 'str',\n",
       " 'metadata.category.subcategory': 'str',\n",
       " 'metadata.buyer.firstname': 'str',\n",
       " 'metadata.buyer.lastname': 'str',\n",
       " 'metadata.buyer.company': 'str',\n",
       " 'metadata.seller.firstname': 'str',\n",
       " 'metadata.seller.lastname': 'str',\n",
       " 'metadata.seller.company': 'str',\n",
       " 'metadata.price.price': 'float',\n",
       " 'summary': 'str'}"
      ]
     },
     "execution_count": 3,
     "metadata": {},
     "output_type": "execute_result"
    }
   ],
   "source": [
    "path2type = calculate_config_file_path2type(collection)\n",
    "path2type"
   ]
  },
  {
   "cell_type": "code",
   "execution_count": 11,
   "metadata": {},
   "outputs": [
    {
     "data": {
      "text/plain": [
       "0"
      ]
     },
     "execution_count": 11,
     "metadata": {},
     "output_type": "execute_result"
    }
   ],
   "source": [
    "j_filter = {\"text\" : \"*xx*\", \"datum\" : \">24.10.2024\", \"metadata.infos.rechnungsdatum\" : \">=20.3.2024\", \"metadata.preis.preis\" : \">=700\"}\n",
    "j_filter = {\"metadata.infos.rechnungsdatum\" : \">=19.12.2024\", \"metadata.preis.preis\" : \">=700\"}\n",
    "j_filter = {\"metadata.preis.preis\" : \">=700\"}\n",
    "\n",
    "j_filter = {\"metadata.price.price\" : \">=700\"}\n",
    "j_filter = {'metadata.infos.receiptid': 're*'}\n",
    "\n",
    "query = get_filter2query(j_filter, path2type)\n",
    "\n",
    "results = list(collection.find(query))\n",
    "\n",
    "len(results)"
   ]
  },
  {
   "cell_type": "code",
   "execution_count": 5,
   "metadata": {},
   "outputs": [
    {
     "name": "stderr",
     "output_type": "stream",
     "text": [
      "2025-01-31 22:19:03,516 - my_logger - INFO - Read Remote File data/receipt2.docx\n",
      "2025-01-31 22:19:03,517 - my_logger - INFO - binary2txt: DOCX\n"
     ]
    },
    {
     "name": "stdout",
     "output_type": "stream",
     "text": [
      "Official Receipt\n",
      "Company Name: Tech Solutions UG\n",
      "Address: Hauptstraße 123, 10115 Berlin, Germany\n",
      "Phone: +49 30 12345678 | Email: contact@techsolutions.de\n",
      "Website: www.techsolutions.de\n",
      "Receipt Number: #20250131-002\n",
      "Date of Issue: 31.01.2025\n",
      "Customer Name: Max Mustermann\n",
      "Customer Address: Musterstraße 45, 10117 Berlin, Germany\n",
      "Customer Email: max.mustermann@email.com\n",
      "Customer Phone: +49 170 9876543\n",
      "Subtotal: €370.00\n",
      "Tax (19% VAT): €70.55\n",
      "Total Amount: €440.55\n",
      "Payment Method: Credit Card\n",
      "Payment Status: Paid in Full\n",
      "Transaction ID: TXN20250131-9823\n",
      "Warranty Information:\n",
      "• The hardware upgrade includes a 1-year warranty on the installed components.\n",
      "• The software installation service is guaranteed for 30 days against installation issues.\n",
      "• Data recovery success depends on the condition of the storage device and does not guarantee full data retrieval.\n",
      "Terms & Conditions:\n",
      "• This receipt serves as proof of purchase and must be presented for any warranty claims.\n",
      "• Services provided are non-refundable once completed unless stated otherwise.\n",
      "• The customer is responsible for backing up personal data before any service is carried out.\n",
      "Thank you for choosing Tech Solutions UG! We appreciate your business and look forward to serving you again.\n"
     ]
    }
   ],
   "source": [
    "a, b, c = read_binary_file(\"data/receipt2.docx\")\n",
    "\n",
    "print(b)"
   ]
  }
 ],
 "metadata": {
  "kernelspec": {
   "display_name": ".venv",
   "language": "python",
   "name": "python3"
  },
  "language_info": {
   "codemirror_mode": {
    "name": "ipython",
    "version": 3
   },
   "file_extension": ".py",
   "mimetype": "text/x-python",
   "name": "python",
   "nbconvert_exporter": "python",
   "pygments_lexer": "ipython3",
   "version": "3.11.10"
  }
 },
 "nbformat": 4,
 "nbformat_minor": 2
}

{
 "cells": [
  {
   "cell_type": "code",
   "execution_count": 1,
   "metadata": {},
   "outputs": [
    {
     "name": "stdout",
     "output_type": "stream",
     "text": [
      "host: localhost\n",
      "Inserted 100 documents into MongoDB.\n"
     ]
    },
    {
     "data": {
      "text/plain": [
       "{'_id': '1bbdd6ba-0959-4c79-ae2e-c78939fe0555',\n",
       " 'filepath': 'fp0_1/fp1_1/fp2_3/File_3792.docx',\n",
       " 'filepath_custom': 'fp_c0_2/fp_c1_3/fp_c2_6/File_3792.docx',\n",
       " 'category': 'Rechnung',\n",
       " 'src': {'type': 'local',\n",
       "  'fp': '/Users/oliverkohn/repositories/datasphereAI/find_files/backend/data/receipt1.docx'},\n",
       " 'metadata': {'infos': {'receiptid': 'rechnung cb7a52f8-768a-4dc9-a875-05210a53c215',\n",
       "   'receiptdate': datetime.datetime(2024, 9, 6, 16, 19, 39, 217000)},\n",
       "  'category': {'maincategory': 'end', 'subcategory': 'less'},\n",
       "  'buyer': {'firstname': 'Richard',\n",
       "   'lastname': 'Parks',\n",
       "   'company': 'Huang Group'},\n",
       "  'kseller': {'firstname': 'Samuel',\n",
       "   'lastname': 'Hudson',\n",
       "   'company': 'Salas, Roth and Cunningham'},\n",
       "  'price': {'price': 330.17}},\n",
       " 'summary': 'Small summary of the file ... .'}"
      ]
     },
     "execution_count": 1,
     "metadata": {},
     "output_type": "execute_result"
    }
   ],
   "source": [
    "from dotenv import load_dotenv\n",
    "_ = load_dotenv(\"config.env\")\n",
    "\n",
    "from common.mongodb import *\n",
    "from common.files import *\n",
    "\n",
    "\n",
    "drop_collection=True\n",
    "collection = get_mongo_collection(os.getenv(\"MONGODB_COLLECTION_NAME\"), drop_collection=drop_collection)\n",
    "\n",
    "# new mock data\n",
    "if drop_collection:\n",
    "    insert_into_mongo(collection, 100)\n",
    "\n",
    "collection.find_one()"
   ]
  },
  {
   "cell_type": "code",
   "execution_count": null,
   "metadata": {},
   "outputs": [],
   "source": [
    "#list(collection.find({}))"
   ]
  },
  {
   "cell_type": "code",
   "execution_count": null,
   "metadata": {},
   "outputs": [],
   "source": [
    "path2type = calculate_config_file_path2type(collection)\n",
    "path2type"
   ]
  },
  {
   "cell_type": "code",
   "execution_count": null,
   "metadata": {},
   "outputs": [],
   "source": [
    "j_filter = {\"text\" : \"*xx*\", \"datum\" : \">24.10.2024\", \"metadata.infos.rechnungsdatum\" : \">=20.3.2024\", \"metadata.preis.preis\" : \">=700\"}\n",
    "j_filter = {\"metadata.infos.rechnungsdatum\" : \">=19.12.2024\", \"metadata.preis.preis\" : \">=700\"}\n",
    "j_filter = {\"metadata.preis.preis\" : \">=700\"}\n",
    "\n",
    "j_filter = {\"metadata.price.price\" : \">=700\"}\n",
    "\n",
    "query = get_filter2query(j_filter, path2type)\n",
    "\n",
    "results = list(collection.find(query))\n",
    "\n",
    "len(results)"
   ]
  },
  {
   "cell_type": "code",
   "execution_count": null,
   "metadata": {},
   "outputs": [],
   "source": [
    "a, b, c = read_binary_file(\"data/receipt2.docx\")\n",
    "\n",
    "print(b)"
   ]
  }
 ],
 "metadata": {
  "kernelspec": {
   "display_name": ".venv",
   "language": "python",
   "name": "python3"
  },
  "language_info": {
   "codemirror_mode": {
    "name": "ipython",
    "version": 3
   },
   "file_extension": ".py",
   "mimetype": "text/x-python",
   "name": "python",
   "nbconvert_exporter": "python",
   "pygments_lexer": "ipython3",
   "version": "3.11.10"
  }
 },
 "nbformat": 4,
 "nbformat_minor": 2
}

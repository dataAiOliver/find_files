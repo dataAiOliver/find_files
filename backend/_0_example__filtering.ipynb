{
 "cells": [
  {
   "cell_type": "code",
   "execution_count": 1,
   "metadata": {},
   "outputs": [
    {
     "name": "stdout",
     "output_type": "stream",
     "text": [
      "host: localhost\n",
      "Inserted 10 documents into MongoDB.\n"
     ]
    },
    {
     "data": {
      "text/plain": [
       "{'_id': '29cd9ac9-211d-472f-bc2b-8821cc5fda1f',\n",
       " 'filepath': 'fp0_2/fp1_4/fp2_3/File_9214.docx',\n",
       " 'filepath_custom': 'fp_c0_2/fp_c1_2/fp_c2_6/File_9214.docx',\n",
       " 'category': 'Rechnung',\n",
       " 'src': {'type': 'local', 'fp': None},\n",
       " 'metadata': {'infos': {'receiptid': 'rechnung 6897c7f0-6df1-410f-b6f2-8c304fcf3afe',\n",
       "   'receiptdate': datetime.datetime(2024, 7, 7, 18, 35, 12, 530000)},\n",
       "  'category': {'maincategory': 'capital', 'subcategory': 'example'},\n",
       "  'buyer': {'firstname': 'Mathew',\n",
       "   'lastname': 'Gallegos',\n",
       "   'company': 'Collins-Hamilton'},\n",
       "  'kseller': {'firstname': 'Steven',\n",
       "   'lastname': 'Brandt',\n",
       "   'company': 'Smith-Chen'},\n",
       "  'price': {'price': 156.33}},\n",
       " 'summary': 'Small summary of the file ... .'}"
      ]
     },
     "execution_count": 1,
     "metadata": {},
     "output_type": "execute_result"
    }
   ],
   "source": [
    "from dotenv import load_dotenv\n",
    "_ = load_dotenv(\"config.env\")\n",
    "\n",
    "from common.mongodb import *\n",
    "from common.files import *\n",
    "\n",
    "\n",
    "drop_collection=True\n",
    "collection = get_mongo_collection(\"filter_perfomance_test\", drop_collection=drop_collection)\n",
    "\n",
    "# new mock data\n",
    "if drop_collection:\n",
    "    insert_into_mongo(collection, 10)\n",
    "\n",
    "def exec_query(query, collection):\n",
    "    t1 = datetime.datetime.now()\n",
    "    query_result = collection.find(query)\n",
    "    list_query_result = list(query_result)\n",
    "    len_list = len(list_query_result)\n",
    "    t2 = datetime.datetime.now()\n",
    "    dt = round(((t2-t1).total_seconds()*1000), 2)\n",
    "    print(f\"Query took {dt} ms and has {len_list} results.\")\n",
    "\n",
    "collection.find_one()"
   ]
  },
  {
   "cell_type": "code",
   "execution_count": 2,
   "metadata": {},
   "outputs": [
    {
     "name": "stdout",
     "output_type": "stream",
     "text": [
      "Query took 1.5 ms and has 10 results.\n",
      "Query took 0.6 ms and has 0 results.\n",
      "Query took 1.76 ms and has 0 results.\n",
      "Query took 0.53 ms and has 10 results.\n"
     ]
    }
   ],
   "source": [
    "# normal filter\n",
    "# many results\n",
    "query = { \"metadata.infos.receiptid\": {\"$regex\": \"^rechnung\"}}\n",
    "exec_query(query, collection)\n",
    "\n",
    "# only few results\n",
    "query = { \"metadata.infos.receiptid\": {\"$regex\": \"^rechnung 474e10b5-a8eb-4396-9\"}}\n",
    "exec_query(query, collection)\n",
    "\n",
    "# no results\n",
    "query = { \"metadata.infos.dummyreceiptid\": {\"$regex\": \"^rechnung\"}}\n",
    "exec_query(query, collection)\n",
    "\n",
    "# show no caching\n",
    "query = { \"metadata.infos.receiptid\": {\"$regex\": \"^rechnung\"}}\n",
    "exec_query(query, collection)"
   ]
  },
  {
   "cell_type": "code",
   "execution_count": 3,
   "metadata": {},
   "outputs": [
    {
     "name": "stdout",
     "output_type": "stream",
     "text": [
      "Query took 0.93 ms and has 10 results.\n",
      "Query took 0.55 ms and has 0 results.\n"
     ]
    }
   ],
   "source": [
    "# numbers\n",
    "query = {\"metadata.price.price\": {\"$gt\": 0}}\n",
    "exec_query(query, collection)\n",
    "\n",
    "query = {\"metadata.price.price\": {\"$gt\": 998}}\n",
    "exec_query(query, collection)"
   ]
  },
  {
   "cell_type": "code",
   "execution_count": 4,
   "metadata": {},
   "outputs": [
    {
     "name": "stdout",
     "output_type": "stream",
     "text": [
      "Query took 1.13 ms and has 10 results.\n",
      "Query took 0.47 ms and has 0 results.\n"
     ]
    }
   ],
   "source": [
    "# dates\n",
    "\n",
    "query = {\n",
    "    \"$expr\": {\"$lt\": [\"$metadata.infos.receiptdate\", datetime.datetime(9999, 1, 1)]}\n",
    "}\n",
    "exec_query(query, collection)\n",
    "\n",
    "query = {\"$expr\": {\"$eq\": [{\"$month\": \"$metadata.infos.receiptdate\"}, 10]}}\n",
    "exec_query(query, collection)"
   ]
  },
  {
   "cell_type": "code",
   "execution_count": 5,
   "metadata": {},
   "outputs": [
    {
     "name": "stdout",
     "output_type": "stream",
     "text": [
      "Query took 0.55 ms and has 0 results.\n"
     ]
    }
   ],
   "source": [
    "# and/or\n",
    "query = {\n",
    "    \"$and\": [\n",
    "        {\"metadata.infos.receiptid\": {\"$regex\": \"^rechnung\"}},\n",
    "        {\"metadata.seller.company\": {\"$regex\": \"^L\"}},\n",
    "        {\n",
    "            \"$or\": [\n",
    "                {\"metadata.price.price\": {\"$lt\": 8200}},\n",
    "            ]\n",
    "        },\n",
    "    ]\n",
    "}\n",
    "\n",
    "exec_query(query, collection)"
   ]
  },
  {
   "cell_type": "code",
   "execution_count": 6,
   "metadata": {},
   "outputs": [
    {
     "name": "stdout",
     "output_type": "stream",
     "text": [
      "Query took 4.83 ms and has 10 results.\n"
     ]
    }
   ],
   "source": [
    "# compound index\n",
    "collection.create_index([\n",
    "    (\"metadata.infos.receiptid\", \"text\"),\n",
    "    (\"metadata.category.maincategory\", \"text\")\n",
    "])\n",
    "query = {\"$text\": {\"$search\": \"rechnung\"}}\n",
    "exec_query(query, collection)"
   ]
  }
 ],
 "metadata": {
  "kernelspec": {
   "display_name": ".venv",
   "language": "python",
   "name": "python3"
  },
  "language_info": {
   "codemirror_mode": {
    "name": "ipython",
    "version": 3
   },
   "file_extension": ".py",
   "mimetype": "text/x-python",
   "name": "python",
   "nbconvert_exporter": "python",
   "pygments_lexer": "ipython3",
   "version": "3.11.10"
  }
 },
 "nbformat": 4,
 "nbformat_minor": 2
}
